{
  "nbformat": 4,
  "nbformat_minor": 0,
  "metadata": {
    "colab": {
      "provenance": []
    },
    "kernelspec": {
      "name": "python3",
      "display_name": "Python 3"
    },
    "language_info": {
      "name": "python"
    }
  },
  "cells": [
    {
      "cell_type": "code",
      "execution_count": 5,
      "metadata": {
        "colab": {
          "base_uri": "https://localhost:8080/"
        },
        "id": "4gCfs1E2SjnK",
        "outputId": "b917dd99-2df6-4719-fc7b-83317e1f8e02"
      },
      "outputs": [
        {
          "output_type": "stream",
          "name": "stdout",
          "text": [
            "Welcome To Hasnain's Coding World\n",
            "========================================\n",
            "\n",
            "=== Welcome to the ATM ===\n",
            "1. Check Balance\n",
            "2. Deposit Money\n",
            "3. Withdraw Money\n",
            "4. Fast Cash\n",
            "5. Exit\n",
            "Choose an option (1-5): 3\n",
            "Enter the amount to withdraw: 500000000000000000000000\n",
            "Insufficient balance. You cannot withdraw more than 10000.00.\n",
            "\n",
            "=== Welcome to the ATM ===\n",
            "1. Check Balance\n",
            "2. Deposit Money\n",
            "3. Withdraw Money\n",
            "4. Fast Cash\n",
            "5. Exit\n",
            "Choose an option (1-5): 5\n",
            "Thank you for using the ATM. Goodbye!\n"
          ]
        }
      ],
      "source": [
        "print(\"Welcome To Hasnain's Coding World\")\n",
        "print('=' * 40)\n",
        "\n",
        "class ATM:\n",
        "    def __init__(self):\n",
        "        self.balance = 10000  # Starting with an initial balance of $10000\n",
        "\n",
        "    def check_balance(self):\n",
        "        print(f\"Your balance is: ${self.balance:.2f}\")\n",
        "\n",
        "    def deposit(self, amount):\n",
        "        if amount > 0:\n",
        "            self.balance += amount\n",
        "            print(f\"You deposited ${amount:.2f}. Your new balance is ${self.balance:.2f}.\")\n",
        "        else:\n",
        "            print(\"Invalid amount. Please enter an amount greater than zero.\")\n",
        "\n",
        "    def withdraw(self, amount):\n",
        "        if amount > self.balance:\n",
        "            print(f\"Insufficient balance. You cannot withdraw more than {self.balance:.2f}.\")\n",
        "        elif amount <= 0:\n",
        "            print(\"Invalid amount. Please enter an amount greater than zero.\")\n",
        "        else:\n",
        "            self.balance -= amount\n",
        "            print(f\"You withdrew ${amount:.2f}. Your new balance is ${self.balance:.2f}.\")\n",
        "\n",
        "    def fast_cash(self):\n",
        "        while True:\n",
        "            print(\"\\n=== Fast Cash Options ===\")\n",
        "            print(\"1. Withdraw $1000\")\n",
        "            print(\"2. Withdraw $5000\")\n",
        "            print(\"3. Withdraw $8000\")\n",
        "            print(\"4. Withdraw $10000\")\n",
        "            print(\"5. Cancel Fast Cash\")\n",
        "\n",
        "            option = input(\"Choose an option (1-5): \")\n",
        "\n",
        "            try:\n",
        "                option = int(option)\n",
        "                if option == 1:\n",
        "                    self.withdraw(1000)\n",
        "                elif option == 2:\n",
        "                    self.withdraw(5000)\n",
        "                elif option == 3:\n",
        "                    self.withdraw(8000)\n",
        "                elif option == 4:\n",
        "                    self.withdraw(10000)\n",
        "                elif option == 5:\n",
        "                    print(\"Fast cash cancelled.\")\n",
        "                    break\n",
        "                else:\n",
        "                    print(\"Invalid option. Please choose a number between 1 and 5.\")\n",
        "            except ValueError:\n",
        "                print(\"Invalid input. Please enter a number between 1 and 5.\")\n",
        "\n",
        "def atm_menu():\n",
        "    atm = ATM()  # Create an ATM instance with a balance of $10000\n",
        "    while True:\n",
        "        print(\"\\n=== Welcome to the ATM ===\")\n",
        "        print(\"1. Check Balance\")\n",
        "        print(\"2. Deposit Money\")\n",
        "        print(\"3. Withdraw Money\")\n",
        "        print(\"4. Fast Cash\")\n",
        "        print(\"5. Exit\")\n",
        "\n",
        "        choice = input(\"Choose an option (1-5): \")\n",
        "\n",
        "        try:\n",
        "            choice = int(choice)\n",
        "            if choice == 1:\n",
        "                atm.check_balance()\n",
        "            elif choice == 2:\n",
        "                amount = input(\"Enter the amount to deposit: \")\n",
        "                if amount.isdigit():\n",
        "                    atm.deposit(float(amount))\n",
        "                else:\n",
        "                    print(\"Invalid input. Please enter a numeric value.\")\n",
        "            elif choice == 3:\n",
        "                amount = input(\"Enter the amount to withdraw: \")\n",
        "                if amount.isdigit():\n",
        "                    atm.withdraw(float(amount))\n",
        "                else:\n",
        "                    print(\"Invalid input. Please enter a numeric value.\")\n",
        "            elif choice == 4:\n",
        "                atm.fast_cash()  # Call the fast cash feature\n",
        "            elif choice == 5:\n",
        "                print(\"Thank you for using the ATM. Goodbye!\")\n",
        "                break\n",
        "            else:\n",
        "                print(\"Invalid choice. Please choose a number between 1 and 5.\")\n",
        "        except ValueError:\n",
        "            print(\"Invalid input. Please enter a number between 1 and 5.\")\n",
        "\n",
        "# Run the ATM menu\n",
        "atm_menu()\n"
      ]
    },
    {
      "cell_type": "code",
      "source": [
        "\n"
      ],
      "metadata": {
        "id": "ikegf6YDTTUm"
      },
      "execution_count": null,
      "outputs": []
    }
  ]
}