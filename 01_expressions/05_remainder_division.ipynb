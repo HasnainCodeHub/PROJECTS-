{
  "nbformat": 4,
  "nbformat_minor": 0,
  "metadata": {
    "colab": {
      "provenance": []
    },
    "kernelspec": {
      "name": "python3",
      "display_name": "Python 3"
    },
    "language_info": {
      "name": "python"
    }
  },
  "cells": [
    {
      "cell_type": "markdown",
      "source": [
        "# ➗ Division and Remainder Calculation Project\n",
        "\n",
        "Welcome to **Hasnain's Coding World**! This project performs basic division and calculates both the quotient and remainder of two numbers provided by the user.\n",
        "\n",
        "---\n",
        "\n",
        "## 🚀 Features\n",
        "- **Division Operation**: Computes the quotient using integer division.\n",
        "- **Remainder Calculation**: Finds the remainder of the division.\n",
        "- **User Input**: Accepts two numbers from the user for calculation.\n",
        "\n",
        "---\n",
        "\n",
        "## 🛠️ Technologies Used\n",
        "- **Python**: Core programming language for mathematical operations.\n",
        "- **Arithmetic Operators**: Uses `//` for integer division and `%` for remainder calculation.\n",
        "\n",
        "---\n",
        "\n",
        "## 📦 Example Output\n",
        "```plaintext\n",
        "Welcome To Hasnain's Coding World\n",
        "==================================\n",
        "Enter The Number You Want to Divide: 15\n",
        "==================================\n",
        "Enter The Number You Want to Divided By: 4\n",
        "==================================\n",
        "The Division Of Your Given Number is: 3\n",
        "The Remainder Of Your Given Number is: 3\n"
      ],
      "metadata": {
        "id": "-lFDYOLi0Zww"
      }
    },
    {
      "cell_type": "code",
      "execution_count": null,
      "metadata": {
        "colab": {
          "base_uri": "https://localhost:8080/"
        },
        "id": "PeTYBgf327Qr",
        "outputId": "a77bc93f-7099-4d22-ddd9-b8e90dc58374"
      },
      "outputs": [
        {
          "output_type": "stream",
          "name": "stdout",
          "text": [
            "Welcome To Hasnain's Coding World\n",
            "==================================\n",
            "Enter The Number You Want to Divide : 500\n",
            "==================================\n",
            "Enter The Number You Want to Divided By : 12\n",
            "==================================\n",
            "The Division Of Your Given Number is: 41\n",
            "The Remainder Of Your Given Number is: 8\n"
          ]
        }
      ],
      "source": [
        "print(\"Welcome To Hasnain's Coding World\")\n",
        "print(\"==================================\")\n",
        "\n",
        "def main():\n",
        "  division: int = int(input(\"Enter The Number You Want to Divide : \"))\n",
        "  print(\"==================================\")\n",
        "  divider: int = int(input(\"Enter The Number You Want to Divided By : \"))\n",
        "\n",
        "  quetont: int = division // divider    # Dividing Numbers\n",
        "  remainder: int = division % divider   # Reminder Of Numbers\n",
        "  print(\"==================================\")\n",
        "  print(\"The Division Of Your Given Number is: \" + str(quetont))\n",
        "  print(\"The Remainder Of Your Given Number is: \" + str(remainder))\n",
        "\n",
        "if __name__ == \"__main__\":\n",
        "  main()\n",
        "\n"
      ]
    },
    {
      "cell_type": "code",
      "source": [],
      "metadata": {
        "id": "lXljntqz1rSA"
      },
      "execution_count": null,
      "outputs": []
    }
  ]
}