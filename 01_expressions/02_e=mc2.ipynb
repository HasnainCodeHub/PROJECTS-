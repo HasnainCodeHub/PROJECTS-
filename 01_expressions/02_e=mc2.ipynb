{
  "nbformat": 4,
  "nbformat_minor": 0,
  "metadata": {
    "colab": {
      "provenance": []
    },
    "kernelspec": {
      "name": "python3",
      "display_name": "Python 3"
    },
    "language_info": {
      "name": "python"
    }
  },
  "cells": [
    {
      "cell_type": "markdown",
      "source": [
        "# ⚛️ Mass-Energy Conversion Project\n",
        "\n",
        "Welcome to **Hasnain's Coding World**! This project calculates the energy equivalent of a given mass using **Einstein’s famous equation**:  \n",
        "\n",
        "### *E = mc²*\n",
        "\n",
        "---\n",
        "\n",
        "## 🚀 Features\n",
        "- **Mass Input**: Accepts mass in kilograms from the user.\n",
        "- **Energy Calculation**: Uses the speed of light (`c = 299,792,458 m/s`) to compute the energy in joules.\n",
        "- **Displays Calculation Steps**: Shows the formula and inputs used to perform the calculation.\n",
        "\n",
        "---\n",
        "\n",
        "## 🛠️ Technologies Used\n",
        "- **Python**: Core programming language for the computation.\n",
        "- **Einstein's Formula**: The project implements the mass-energy equivalence formula.\n",
        "\n",
        "---\n",
        "\n",
        "## 📖 How to Run the Project\n",
        "1. Save the script as `mass_energy_conversion.py`.\n",
        "2. Run the script in the terminal or command prompt:\n",
        "    ```bash\n",
        "    python mass_energy_conversion.py\n",
        "    ```\n",
        "3. Enter the mass in kilograms when prompted, and the program will output the equivalent energy in joules.\n",
        "\n",
        "---\n",
        "\n",
        "## 📦 Example Output\n",
        "```plaintext\n",
        "Welcome To Hasnain's Coding World\n",
        "=======================================\n",
        "Enter The Mass In Kg: 2\n",
        "=======================================\n",
        "=======================================\n",
        "e = m * c**2\n",
        "m = 2.0\n",
        "c = 299792458\n",
        "=======================================\n",
        "Energy In Joules Is: 1.7975103574736354e+17\n"
      ],
      "metadata": {
        "id": "BhfZy0MgzGbk"
      }
    },
    {
      "cell_type": "code",
      "execution_count": null,
      "metadata": {
        "colab": {
          "base_uri": "https://localhost:8080/"
        },
        "id": "s4Ue0aIyoj9L",
        "outputId": "30a2c03a-c17f-4adb-cfb0-3496a8b0ebbb"
      },
      "outputs": [
        {
          "output_type": "stream",
          "name": "stdout",
          "text": [
            "Welcome To Hasnain's Coding World\n",
            "=======================================\n",
            "Enter The Mass In Kg: 45\n",
            "=======================================\n",
            "=======================================\n",
            "e = m * c**2\n",
            "m = 45.0\n",
            "c = 299792458\n",
            "=======================================\n",
            "Energy In Joules Is: 4.044398304315679e+18\n"
          ]
        }
      ],
      "source": [
        "print(\"Welcome To Hasnain's Coding World\")\n",
        "print(\"=======================================\")\n",
        "C:int = 299792458  #The Speed Of Light In m/s you can google it\n",
        "\n",
        "def main():\n",
        "  mass_in_kg:float = float(input(\"Enter The Mass In Kg: \"))\n",
        "  print(\"=======================================\")\n",
        "\n",
        "  energy_in_joules:float = mass_in_kg * ( C ** 2 )\n",
        "  print(\"=======================================\")\n",
        "\n",
        "  # Displaying How Program Works\n",
        "  print(\"e = m * c**2\")\n",
        "  print(\"m\" + \" = \" + str(mass_in_kg))\n",
        "  print(\"c\" + \" = \" + str(C))\n",
        "\n",
        "  print(\"=======================================\")\n",
        "  print(\"Energy In Joules Is: \" + str(energy_in_joules))\n",
        "\n",
        "if __name__ == '__main__' :\n",
        "    main()\n",
        "\n",
        "\n",
        "\n",
        "\n"
      ]
    }
  ]
}