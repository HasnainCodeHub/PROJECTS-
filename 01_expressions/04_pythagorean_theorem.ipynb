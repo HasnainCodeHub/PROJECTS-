{
  "nbformat": 4,
  "nbformat_minor": 0,
  "metadata": {
    "colab": {
      "provenance": []
    },
    "kernelspec": {
      "name": "python3",
      "display_name": "Python 3"
    },
    "language_info": {
      "name": "python"
    }
  },
  "cells": [
    {
      "cell_type": "markdown",
      "source": [
        "# 📐 Pythagorean Theorem Project\n",
        "\n",
        "Welcome to **Hasnain's Coding World**! This project calculates the length of the hypotenuse (CA) of a right triangle using the **Pythagorean Theorem**:  \n",
        "### *CA² = AB² + BC²*  \n",
        "\n",
        "---\n",
        "\n",
        "## 🚀 Features\n",
        "- **Length Calculation**: Calculates the hypotenuse using the lengths of the other two sides (AB and BC).\n",
        "- **User Input**: Accepts lengths of sides AB and BC from the user.\n",
        "- **Precision Handling**: Outputs the hypotenuse length rounded to the nearest whole number.\n",
        "\n",
        "---\n",
        "\n",
        "## 🛠️ Technologies Used\n",
        "- **Python**: Core programming language.\n",
        "- **Math Module**: Uses the `math.sqrt()` function to compute the square root.\n",
        "\n",
        "---\n",
        "\n",
        "## 📦 Example Output\n",
        "```plaintext\n",
        "Welcome To Hasnain's Coding World\n",
        "======================================\n",
        "Enter the Length Of AB: 3\n",
        "Enter the Length Of BC: 4\n",
        "======================================\n",
        "The Length Of CA Is:  5\n",
        "======================================\n"
      ],
      "metadata": {
        "id": "vjRyEnfp0CGU"
      }
    },
    {
      "cell_type": "code",
      "execution_count": null,
      "metadata": {
        "colab": {
          "base_uri": "https://localhost:8080/"
        },
        "id": "1YeKsgFw0tyJ",
        "outputId": "3d627a5c-8b25-4920-8f6e-3c6747c05405"
      },
      "outputs": [
        {
          "output_type": "stream",
          "name": "stdout",
          "text": [
            "Welcome To Hasnain's Coding World\n",
            "======================================\n",
            "Enter the Length Of AB: 23\n",
            "Enter the Length Of BC: 23\n",
            "======================================\n",
            "The Length Of CA Is:  33\n",
            "======================================\n"
          ]
        }
      ],
      "source": [
        "import math  # Import the math library so we can use the sqrt function\n",
        "\n",
        "print(\"Welcome To Hasnain's Coding World\")\n",
        "print(\"======================================\")\n",
        "\n",
        "def main():\n",
        "  ab : float = float(input(\"Enter the Length Of AB: \"))\n",
        "  bc : float = float(input(\"Enter the Length Of BC: \"))\n",
        "  ca : float = math.sqrt(ab**2 + bc**2)\n",
        "  print(\"======================================\")\n",
        "\n",
        "  print(\"The Length Of CA Is: \", round(ca))\n",
        "  print(\"======================================\")\n",
        "\n",
        "if __name__ == \"__main__\":\n",
        "  main()\n",
        "\n"
      ]
    }
  ]
}