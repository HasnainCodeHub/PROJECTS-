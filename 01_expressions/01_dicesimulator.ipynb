{
  "nbformat": 4,
  "nbformat_minor": 0,
  "metadata": {
    "colab": {
      "provenance": []
    },
    "kernelspec": {
      "name": "python3",
      "display_name": "Python 3"
    },
    "language_info": {
      "name": "python"
    }
  },
  "cells": [
    {
      "cell_type": "markdown",
      "source": [
        "# 🎲 Dice Rolling Simulation Project\n",
        "\n",
        "Welcome to **Hasnain's Coding World**! This project simulates rolling two dice and calculating their total, providing a fun and straightforward way to explore randomization in Python.\n",
        "\n",
        "---\n",
        "\n",
        "## 🚀 Features\n",
        "- **Simulates Two Dice Rolls**: Generates random values for two dice (each with 6 sides) and calculates their total.\n",
        "- **Multiple Rolls**: Rolls the dice multiple times to demonstrate random outcomes.\n",
        "- **Variable Scope Demonstration**: Shows how variables behave within different scopes (`main` function vs. inside a separate function).\n",
        "\n",
        "---\n",
        "\n",
        "## 🛠️ Technologies Used\n",
        "- **Python**: Core programming language.\n",
        "- **Random Module**: Utilized to generate random numbers representing dice rolls.\n",
        "\n",
        "---\n",
        "\n",
        "## 📖 How to Run the Project\n",
        "1. Make sure Python is installed on your system.\n",
        "2. Save the script as `dice_simulation.py`.\n",
        "3. Run the script in the terminal or command prompt:\n",
        "    ```bash\n",
        "    python dice_simulation.py\n",
        "    ```\n",
        "\n",
        "---\n",
        "\n",
        "## 📦 Example Output\n",
        "```plaintext\n",
        "Welcome to Hasnain's Coding World\n",
        "This program simulates rolling two dice\n",
        "===========================================\n",
        "\n",
        "die1 in main() starts as: 10\n",
        "Total of two dice: 9\n",
        "Total of two dice: 7\n",
        "Total of two dice: 11\n",
        "die1 in main() is: 10\n"
      ],
      "metadata": {
        "id": "2Oj3Z507yrks"
      }
    },
    {
      "cell_type": "code",
      "execution_count": null,
      "metadata": {
        "colab": {
          "base_uri": "https://localhost:8080/"
        },
        "id": "-7XUr94juDzp",
        "outputId": "2776ed45-3b71-4497-fee7-989c749545df"
      },
      "outputs": [
        {
          "output_type": "stream",
          "name": "stdout",
          "text": [
            "Welcome to Hasanin's Coding World\n",
            "This program simulates rolling two dice\n",
            "===========================================\n",
            "die1 in main() starts as: 10\n",
            "Total of two dice: 7\n",
            "Total of two dice: 8\n",
            "Total of two dice: 11\n",
            "die1 in main() is: 10\n"
          ]
        }
      ],
      "source": [
        "import random\n",
        "\n",
        "NUM_SIDES = 6\n",
        "\n",
        "print(\"Welcome to Hasanin's Coding World\")\n",
        "print(\"This program simulates rolling two dice\")\n",
        "print(\"===========================================\")\n",
        "\n",
        "def roll_dice():\n",
        "    \"\"\"\n",
        "    Simulates rolling two dice and prints their total\n",
        "    \"\"\"\n",
        "    die1: int = random.randint(1, NUM_SIDES)\n",
        "    die2: int = random.randint(1, NUM_SIDES)\n",
        "    total: int = die1 + die2\n",
        "    print(\"Total of two dice:\", total)\n",
        "\n",
        "def main():\n",
        "    die1: int = 10\n",
        "    print(\"die1 in main() starts as: \" + str(die1))\n",
        "    roll_dice()\n",
        "    roll_dice()\n",
        "    roll_dice()\n",
        "    print(\"die1 in main() is: \" + str(die1))\n",
        "\n",
        "if __name__ == '__main__':\n",
        "    main()\n"
      ]
    }
  ]
}