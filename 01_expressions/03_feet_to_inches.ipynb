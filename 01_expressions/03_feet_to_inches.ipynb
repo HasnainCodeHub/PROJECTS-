{
  "nbformat": 4,
  "nbformat_minor": 0,
  "metadata": {
    "colab": {
      "provenance": []
    },
    "kernelspec": {
      "name": "python3",
      "display_name": "Python 3"
    },
    "language_info": {
      "name": "python"
    }
  },
  "cells": [
    {
      "cell_type": "markdown",
      "source": [
        "# 📏 Feet to Inches Conversion Project\n",
        "\n",
        "Welcome to **Hasnain's Coding World**! This project converts a given number of feet into inches, demonstrating a simple yet effective way to understand basic unit conversions in Python.\n",
        "\n",
        "---\n",
        "\n",
        "## 🚀 Features\n",
        "- **Unit Conversion**: Converts user-inputted feet into inches.\n",
        "- **Simple Formula**: Uses the standard conversion factor of **1 foot = 12 inches**.\n",
        "- **User Input**: Prompts the user to enter the number of feet for conversion.\n",
        "\n",
        "---\n",
        "\n",
        "## 🛠️ Technologies Used\n",
        "- **Python**: Core programming language for the conversion.\n",
        "- **Mathematical Calculation**: Implements a basic multiplication formula for unit conversion.\n",
        "\n",
        "---\n",
        "\n",
        "## 📦 Example Output\n",
        "```plaintext\n",
        "Welcome To Hasnain's Coding World\n",
        "===================================\n",
        "This Program Convert the Number Of Feet Into Inches\n",
        "===================================\n",
        "Enter The Number Of Feet You Want to Convert In Inches: 5\n",
        "===================================\n",
        "5 Feet = 60.0 Inches\n"
      ],
      "metadata": {
        "id": "GYggst8izwKn"
      }
    },
    {
      "cell_type": "code",
      "execution_count": null,
      "metadata": {
        "colab": {
          "base_uri": "https://localhost:8080/"
        },
        "id": "yUvEcePwtqUY",
        "outputId": "98118e3a-7026-452b-b71d-c110bfdf93fb"
      },
      "outputs": [
        {
          "output_type": "stream",
          "name": "stdout",
          "text": [
            "Welcome To Hasnain's Coding World\n",
            "===================================\n",
            "This Program Convert the Number Of Feet Into Inches\n",
            "===================================\n",
            "Enter The Number Of Feet You Want to Convert In Inches 500\n",
            "===================================\n",
            "500 Feet = 6000.0 Inches\n"
          ]
        }
      ],
      "source": [
        "print(\"Welcome To Hasnain's Coding World\")\n",
        "print(\"===================================\")\n",
        "\n",
        "print(\"This Program Convert the Number Of Feet Into Inches\")\n",
        "print(\"===================================\")\n",
        "\n",
        "INCHES : int = 12\n",
        "\n",
        "def main():\n",
        "  feet : float = input(\"Enter The Number Of Feet You Want to Convert In Inches \")\n",
        "  print(\"===================================\")\n",
        "\n",
        "  inches : float = float(feet) * INCHES\n",
        "  print( feet + \" Feet = \" + str(inches) + \" Inches\" )\n",
        "\n",
        "if __name__ == \"__main__\":\n",
        "  main()\n"
      ]
    }
  ]
}