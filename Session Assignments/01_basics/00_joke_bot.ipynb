{
 "cells": [
  {
   "cell_type": "markdown",
   "metadata": {
    "id": "WoaL4JuCzxws"
   },
   "source": [
    "## Problem Statement\n",
    "Write a simple joke bot. The bot starts by asking the user what they want. However, your program will only respond to one response: Joke.\n",
    "\n",
    "If the user enters Joke then we will print out a single joke. Each time the joke is always the same:\n",
    "\n",
    "Here is a joke for you! Panaversity GPT - Sophia is heading out to the grocery store. A programmer tells her: get a liter of milk, and if they have eggs, get 12. Sophia returns with 13 liters of milk. The programmer asks why and Sophia replies: 'because they had eggs'\n",
    "\n",
    "If the user enters anything else we print out:\n",
    "\n",
    "Sorry I only tell jokes\n",
    "\n",
    "You should use the three constants:\n",
    "\n",
    "PROMPT JOKE SORRY\n",
    "\n",
    "which contain the strings for the prompt asked to the user, the joke to print out if the user enters Joke and the sorry message if the user enters anything else."
   ]
  },
  {
   "cell_type": "code",
   "execution_count": 3,
   "metadata": {
    "colab": {
     "base_uri": "https://localhost:8080/"
    },
    "id": "nvtqArygzibs",
    "outputId": "13ec2c78-545a-4ffb-f95d-1c2407ff748c"
   },
   "outputs": [
    {
     "name": "stdout",
     "output_type": "stream",
     "text": [
      "Welcome To Hasnain's Coding World\n",
      "========================================\n",
      "Sorry I only tell jokes!\n"
     ]
    }
   ],
   "source": [
    "PROMPT:str = \"What Do You Want? \"\n",
    "JOKE:str = \"\"\"\n",
    "Teacher: \"If I gave you two cats and then two more cats, how many cats would you have?\"\n",
    "Student: \"Seven!\"\n",
    "Teacher: \"No, no... let’s try that again. Two plus two equals?\"\n",
    "Student: \"Four. But I already have three cats at home!\"\"\"\n",
    "SORRY:str = \"Sorry I only tell jokes!\"\n",
    "print(\"Welcome To Hasnain's Coding World\")\n",
    "print(\"=\" * 40)\n",
    "def main():\n",
    "    user_input = input(PROMPT).strip().lower()\n",
    "    if  \"joke\" in user_input:\n",
    "        print(JOKE)\n",
    "    else:\n",
    "        print(SORRY)\n",
    "\n",
    "\n",
    "if __name__ == \"__main__\":\n",
    "    main()"
   ]
  },
  {
   "cell_type": "code",
   "execution_count": null,
   "metadata": {
    "id": "XhJy6YJc0clj"
   },
   "outputs": [],
   "source": []
  }
 ],
 "metadata": {
  "colab": {
   "provenance": []
  },
  "kernelspec": {
   "display_name": "Python 3",
   "name": "python3"
  },
  "language_info": {
   "codemirror_mode": {
    "name": "ipython",
    "version": 3
   },
   "file_extension": ".py",
   "mimetype": "text/x-python",
   "name": "python",
   "nbconvert_exporter": "python",
   "pygments_lexer": "ipython3",
   "version": "3.12.5"
  }
 },
 "nbformat": 4,
 "nbformat_minor": 0
}
