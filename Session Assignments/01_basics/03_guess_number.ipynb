{
  "cells": [
    {
      "cell_type": "markdown",
      "source": [
        "# Problem Statement\n",
        "\n",
        "# Guess My Number Game\n",
        "\n",
        "## Description\n",
        "The **Guess My Number** game is a simple, interactive number-guessing game where the user guesses a randomly selected number between 0 and 99. The program provides feedback after each guess, indicating whether the guess was too high, too low, or correct. The game also includes error handling, allows the player to quit at any time, and supports replaying the game in a loop until the player decides to exit.\n",
        "\n",
        "---\n",
        "\n",
        "## Features\n",
        "- Random number generation between 0 and 99.\n",
        "- User feedback (`too high`, `too low`, `correct`) after each guess.\n",
        "- Error handling for invalid inputs.\n",
        "- Option to quit the game at any time by entering `q`.\n",
        "- Option to replay the game in a loop until the user exits.\n",
        "\n",
        "---\n",
        "\n",
        "## How to Play\n",
        "1. The program will generate a random number between 0 and 99.\n",
        "2. You will be prompted to guess the number:\n",
        "   - Enter a number between 0 and 99.\n",
        "   - If your guess is incorrect, you'll receive feedback:\n",
        "     - \"Your guess is too high\" if the guess is greater than the number.\n",
        "     - \"Your guess is too low\" if the guess is smaller than the number.\n",
        "   - Keep guessing until you find the correct number.\n",
        "3. To quit the game at any time, enter `q` or `quit`.\n",
        "\n",
        "---\n",
        "\n",
        "## Error Handling\n",
        "- Input must be a valid integer between 0 and 99.\n",
        "- Entering invalid data (e.g., letters, special characters) will prompt an error message: `\"Invalid input. Please enter a number between 0 and 99 or 'q' to quit.\"`\n",
        "\n",
        "---\n",
        "\n",
        "## Example Gameplay\n",
        "```plaintext\n",
        "I am thinking of a number between 0 and 99...\n",
        "Enter a guess: 50\n",
        "Your guess is too high.\n",
        "\n",
        "Enter a new number: 25\n",
        "Your guess is too low.\n",
        "\n",
        "Enter a new number: 40\n",
        "Your guess is too low.\n",
        "\n",
        "Enter a new number: 45\n",
        "Your guess is too low.\n",
        "\n",
        "Enter a new number: 48\n",
        "Congrats! The number was: 48\n",
        "\n",
        "Do you want to play again? (y/n): y\n",
        "\n",
        "I am thinking of a number between 0 and 99...\n",
        "Enter a guess: 60\n",
        "Your guess is too high.\n",
        "\n",
        "Enter 'q' to quit: q\n",
        "Thanks for playing!\n"
      ],
      "metadata": {
        "id": "JwBeYuct6AgC"
      }
    },
    {
      "cell_type": "code",
      "source": [
        "from random import randint\n",
        "\n",
        "def main():\n",
        "    secret_number = randint(1, 100)\n",
        "    print(\"Thinking Of a Number Between 1 to 100\")\n",
        "\n",
        "    while True:\n",
        "        try:\n",
        "            guess_input = input(\"Enter Your Guess (or 'q' to quit): \")\n",
        "            if guess_input.lower() == 'q':\n",
        "                print(\"Thanks For Playing\")\n",
        "                return\n",
        "\n",
        "            guess = int(guess_input)\n",
        "\n",
        "            if guess < 1 or guess > 100:\n",
        "                print(\"Please enter a number between 1 and 100.\")\n",
        "                continue  # Go to the next iteration of the loop\n",
        "\n",
        "            if guess < secret_number:\n",
        "                print(\"Your Guess Is Too low\")\n",
        "                print(\"=\" * 40)\n",
        "            elif guess > secret_number:\n",
        "                print(\"Your Guess Is Too high\")\n",
        "                print(\"=\" * 40)\n",
        "            else:\n",
        "                print(\"Congrats! You Guessed the Correct Number:\", secret_number)\n",
        "                return\n",
        "\n",
        "        except ValueError:\n",
        "            print(\"Invalid input. Please enter a number or 'q'.\")\n",
        "\n",
        "if __name__ == \"__main__\":\n",
        "    main()"
      ],
      "metadata": {
        "colab": {
          "base_uri": "https://localhost:8080/"
        },
        "id": "YdhHoYUE5Jhq",
        "outputId": "e32fa056-bfce-4ae9-ccb3-375b26d1e8c5"
      },
      "execution_count": 12,
      "outputs": [
        {
          "output_type": "stream",
          "name": "stdout",
          "text": [
            "Thinking Of a Number Between 1 to 100\n",
            "Enter Your Guess (or 'q' to quit): q\n",
            "Thanks For Playing\n"
          ]
        }
      ]
    }
  ],
  "metadata": {
    "colab": {
      "provenance": []
    },
    "kernelspec": {
      "display_name": "Python 3",
      "name": "python3"
    },
    "language_info": {
      "name": "python"
    }
  },
  "nbformat": 4,
  "nbformat_minor": 0
}