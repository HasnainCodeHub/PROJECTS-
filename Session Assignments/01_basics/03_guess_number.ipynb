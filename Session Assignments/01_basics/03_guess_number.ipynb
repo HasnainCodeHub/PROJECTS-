{
  "cells": [
    {
      "cell_type": "code",
      "execution_count": null,
      "metadata": {
        "colab": {
          "base_uri": "https://localhost:8080/"
        },
        "id": "_EqkxEkKK6vy",
        "outputId": "613583e3-b30f-4a80-f2fe-0993f206c0ff"
      },
      "outputs": [
        {
          "output_type": "stream",
          "name": "stdout",
          "text": [
            "Thinking Of a Number Between 1 to 100\n"
          ]
        }
      ],
      "source": [
        "from random import randint\n",
        "\n",
        "def main():\n",
        "\n",
        "  secret_number: int = randint(1, 100)\n",
        "  print(\"Thinking Of a Number Between 1 to 100\")\n",
        "  guess = int (input(\"Enter Your Guess: \"))\n",
        "  while guess != secret_number:\n",
        "    if guess < secret_number:\n",
        "      print(\"Your Guess Is Too low\")\n",
        "      print(\"=\" * 40)\n",
        "    elif guess > secret_number:\n",
        "      print(\"Your Guess Is Too high\")\n",
        "      print(\"=\" * 40)\n",
        "\n",
        "\n",
        "    else :\n",
        "      print(\"Invalid Input\")\n",
        "      print()\n",
        "    guess: int = int(input(\"Enter A New Guess \"))\n",
        "  print(\"Congrats You Guess Correct Number \" + str(secret_number))\n",
        "\n",
        "main()"
      ]
    },
    {
      "cell_type": "code",
      "execution_count": null,
      "metadata": {
        "id": "gnWVPzFfOYtw"
      },
      "outputs": [],
      "source": []
    }
  ],
  "metadata": {
    "colab": {
      "provenance": []
    },
    "kernelspec": {
      "display_name": "Python 3",
      "name": "python3"
    },
    "language_info": {
      "name": "python"
    }
  },
  "nbformat": 4,
  "nbformat_minor": 0
}