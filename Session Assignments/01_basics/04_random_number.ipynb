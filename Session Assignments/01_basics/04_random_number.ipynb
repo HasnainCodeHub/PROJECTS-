{
  "nbformat": 4,
  "nbformat_minor": 0,
  "metadata": {
    "colab": {
      "provenance": []
    },
    "kernelspec": {
      "name": "python3",
      "display_name": "Python 3"
    },
    "language_info": {
      "name": "python"
    }
  },
  "cells": [
    {
      "cell_type": "markdown",
      "source": [
        "### Problem Statement\n",
        "Print 10 random numbers in the range 1 to 100.\n",
        "\n",
        "Here is an example run:\n",
        "\n",
        "45 79 61 47 52 10 16 83 19 12\n",
        "\n",
        "Each time you run your program you should get different numbers\n",
        "\n",
        "81 76 70 1 27 63 96 100 32 92\n",
        "\n",
        "Recall that the python random library has a function randint which returns an integer in the range set by the parameters (inclusive). For example this call would produce a random integer between 1 and 6, which could include 1 and could include 6:\n",
        "\n",
        "value = random.randint(1, 6)"
      ],
      "metadata": {
        "id": "DjJ2WwJnrixG"
      }
    },
    {
      "cell_type": "code",
      "execution_count": 18,
      "metadata": {
        "colab": {
          "base_uri": "https://localhost:8080/"
        },
        "id": "SI9mDO7Brh59",
        "outputId": "b3bce165-0c42-461e-9a63-481d7c2b808c"
      },
      "outputs": [
        {
          "output_type": "stream",
          "name": "stdout",
          "text": [
            "4 10 56 40 25 78 56 62 23 78\n"
          ]
        }
      ],
      "source": [
        "from random import randint\n",
        "\n",
        "MAX_VALUE = 100\n",
        "MIN_VALUE = 1\n",
        "N_RANDOM_NUMBERS = 10\n",
        "\n",
        "num_list = []\n",
        "for i in range(N_RANDOM_NUMBERS):\n",
        "  rand_number = randint(MIN_VALUE, MAX_VALUE)\n",
        "  num_list.append(rand_number)\n",
        "print(*num_list)\n",
        "\n",
        ""
      ]
    },
    {
      "cell_type": "code",
      "source": [],
      "metadata": {
        "id": "pNB1aC3VrvUc"
      },
      "execution_count": 10,
      "outputs": []
    }
  ]
}