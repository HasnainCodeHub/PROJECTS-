{
  "nbformat": 4,
  "nbformat_minor": 0,
  "metadata": {
    "colab": {
      "provenance": []
    },
    "kernelspec": {
      "name": "python3",
      "display_name": "Python 3"
    },
    "language_info": {
      "name": "python"
    }
  },
  "cells": [
    {
      "cell_type": "markdown",
      "source": [
        "# Problem: Planetary Weight Calculator\n",
        "## Milestone 1: Mars Weight\n",
        "A few years ago, NASA made history with the first controlled flight on another planet. Its latest Mars Rover, Perseverance, has onboard a 50cm high helicopter called Ingenuity. Ingenuity made its third flight, during which it flew faster and further than it had on any of its test flights on Earth. Interestingly, Ingenuity uses Python for some of its flight modeling software!\n",
        "\n",
        "Ingenuity on the surface of Mars (source: NASA)\n",
        "\n",
        "When programming Ingenuity, one of the things that NASA engineers need to account for is the fact that due to the weaker gravity on Mars, an Earthling's weight on Mars is 37.8% of their weight on Earth. Write a Python program that prompts an Earthling to enter their weight on Earth and prints their calculated weight on Mars.\n",
        "\n",
        "The output should be rounded to two decimal places when necessary. Python has a round function which can help you with this. You pass in the value to be rounded and the number of decimal places to use. In the example below, the number 3.1415926 is rounded to 2 decimal places which is 3.14."
      ],
      "metadata": {
        "id": "ltKNeZRICvyc"
      }
    },
    {
      "cell_type": "code",
      "execution_count": null,
      "metadata": {
        "colab": {
          "base_uri": "https://localhost:8080/"
        },
        "id": "lo4MS_Hs_0lo",
        "outputId": "c69cbd86-db06-41cb-d55b-621003855fb5"
      },
      "outputs": [
        {
          "output_type": "stream",
          "name": "stdout",
          "text": [
            "Welcome To Hasnain's Coding world\n",
            "========================================\n",
            "Enter Your Weight!!! 50\n",
            "('If Your Weight On Earth Is 50.0 Then Your Weight On Mars Is', 18.9)\n"
          ]
        }
      ],
      "source": [
        "MARS_CONSTANT:float = 0.378\n",
        "print(\"Welcome To Hasnain's Coding world\")\n",
        "print(\"=\" *40)\n",
        "\n",
        "def get_mars_weight():\n",
        "  user_input:float = float(input(\"Enter Your Weight!!! \"))\n",
        "  mars_weight = f'If Your Weight On Earth Is {user_input} Then Your Weight On Mars Is',round(user_input * MARS_CONSTANT ,3)\n",
        "  return mars_weight\n",
        "\n",
        "print(get_mars_weight())"
      ]
    },
    {
      "cell_type": "markdown",
      "source": [
        "# Milestone 2: Adding in All Planets\n",
        "Mars is not the only planet in our solar system with its own unique gravity. In fact, each planet has a different gravitational constant, which affects how much an object would weigh on that planet. Below is a list of the constants for each planet compared to Earth's gravity:\n",
        "\n",
        "* Mercury: 37.6%\n",
        "\n",
        "* Venus: 88.9%\n",
        "\n",
        "* Mars: 37.8%\n",
        "\n",
        "* Jupiter: 236.0%\n",
        "\n",
        "* Saturn: 108.1%\n",
        "\n",
        "* Uranus: 81.5%\n",
        "\n",
        "* Neptune: 114.0%\n",
        "\n",
        "Write a Python program that prompts an Earthling to enter their weight on Earth and then to enter the name of a planet in our solar system. The program should print the equivalent weight on that planet rounded to 2 decimal places if necessary.\n",
        "\n",
        "You can assume that the user will always type in a planet with the first letter capitalized and you do not need to worry about the case where they type in something other than one of the above planets."
      ],
      "metadata": {
        "id": "3NNbKsXzEjzw"
      }
    },
    {
      "cell_type": "code",
      "source": [
        "MARS_CONSTANT: float = 0.378\n",
        "MERCURY_CONSTANT: float = 0.376\n",
        "VENUS_CONSTANT: float = 0.889\n",
        "JUPITER_CONSTANT: float = 2.36\n",
        "SATURN_CONSTANT: float = 1.081\n",
        "URANUS_CONSTANT: float = 0.815\n",
        "NEPTUNE_CONSTANT: float = 1.14\n",
        "\n",
        "print(\"Welcome To Hasnain's Coding World\")\n",
        "print(\"=\" * 40)\n",
        "\n",
        "def get_planet_weight(planet_name, weight):\n",
        "    if planet_name.lower() == \"mercury\":\n",
        "        return round(weight * MERCURY_CONSTANT, 2)\n",
        "    elif planet_name.lower() == \"venus\":\n",
        "        return round(weight * VENUS_CONSTANT, 2)\n",
        "    elif planet_name.lower() == \"mars\":\n",
        "        return round(weight * MARS_CONSTANT, 2)\n",
        "    elif planet_name.lower() == \"jupiter\":\n",
        "        return round(weight * JUPITER_CONSTANT, 2)\n",
        "    elif planet_name.lower() == \"saturn\":\n",
        "        return round(weight * SATURN_CONSTANT, 2)\n",
        "    elif planet_name.lower() == \"uranus\":\n",
        "        return round(weight * URANUS_CONSTANT, 2)\n",
        "    elif planet_name.lower() == \"neptune\":\n",
        "        return round(weight * NEPTUNE_CONSTANT, 2)\n",
        "    else:\n",
        "        return \"Invalid planet name\"\n",
        "\n",
        "def main():\n",
        "    while True:\n",
        "        try:\n",
        "            earth_weight = float(input(\"Enter your weight on Earth: \"))\n",
        "            break\n",
        "        except ValueError:\n",
        "            print(\"Invalid input. Please enter a valid Weight In Numbers.\")\n",
        "\n",
        "    while True:\n",
        "        planet_name = input(\"Enter the name of a planet: \")\n",
        "        planet_weight = get_planet_weight(planet_name, earth_weight)\n",
        "        if planet_weight == \"Invalid planet name\":\n",
        "            print(\"Invalid planet name or Spell. Please enter a valid planet name.\")\n",
        "        else:\n",
        "            print(\"Your weight on\", planet_name, \"is:\", planet_weight)\n",
        "            break\n",
        "\n",
        "if __name__ == \"__main__\":\n",
        "    main()\n"
      ],
      "metadata": {
        "colab": {
          "base_uri": "https://localhost:8080/"
        },
        "id": "lIm9w1b8BU_g",
        "outputId": "1b7f3d3c-19cb-4b1d-86a7-b3c900a941b8"
      },
      "execution_count": 8,
      "outputs": [
        {
          "output_type": "stream",
          "name": "stdout",
          "text": [
            "Welcome To Hasnain's Coding World\n",
            "========================================\n",
            "Enter your weight on Earth: 798\n",
            "Enter the name of a planet: saddas\n",
            "Invalid planet name. Please enter a valid planet name.\n",
            "Enter the name of a planet: 1221\n",
            "Invalid planet name. Please enter a valid planet name.\n",
            "Enter the name of a planet: Mars\n",
            "Your weight on Mars is: 301.64\n"
          ]
        }
      ]
    },
    {
      "cell_type": "code",
      "source": [],
      "metadata": {
        "id": "agN-ktlpFddW"
      },
      "execution_count": null,
      "outputs": []
    }
  ]
}