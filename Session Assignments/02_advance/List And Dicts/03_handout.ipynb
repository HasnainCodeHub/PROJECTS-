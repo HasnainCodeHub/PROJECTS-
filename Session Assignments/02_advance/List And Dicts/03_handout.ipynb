{
  "nbformat": 4,
  "nbformat_minor": 0,
  "metadata": {
    "colab": {
      "provenance": []
    },
    "kernelspec": {
      "name": "python3",
      "display_name": "Python 3"
    },
    "language_info": {
      "name": "python"
    }
  },
  "cells": [
    {
      "cell_type": "markdown",
      "source": [
        "# Problem 1: List Practice\n",
        " Now practice writing code with lists! Implement the functionality described in the comments below.\n",
        "\n",
        "def main(): # Create a list called fruit_list that contains the following fruits: # 'apple', 'banana', 'orange', 'grape', 'pineapple'.\n",
        "\n",
        "# * Print the length of the list.\n",
        "\n",
        "\n",
        "# * Add 'mango' at the end of the list.\n",
        "\n",
        "\n",
        "# * Print the updated list.\n",
        "\n"
      ],
      "metadata": {
        "id": "ALPU1HJ9JRxD"
      }
    },
    {
      "cell_type": "code",
      "execution_count": 1,
      "metadata": {
        "id": "iC_7ZBSRJNky",
        "colab": {
          "base_uri": "https://localhost:8080/"
        },
        "outputId": "93c2d4c9-2ac7-4981-8f71-35605c11aee5"
      },
      "outputs": [
        {
          "output_type": "stream",
          "name": "stdout",
          "text": [
            "5\n",
            "['apple', 'banana', 'orange', 'grape', 'pineapple', 'mango']\n"
          ]
        }
      ],
      "source": [
        "def main ():\n",
        "    fruit_list = ['apple', 'banana', 'orange', 'grape', 'pineapple']\n",
        "    print(len(fruit_list))\n",
        "    fruit_list.append('mango')\n",
        "    print(fruit_list)\n",
        "main()"
      ]
    },
    {
      "cell_type": "markdown",
      "source": [
        "# Problem #2: Index Game\n",
        "As a warmup,\n",
        "read this code and play the game a few times. Use this mental model of the list:\n",
        "\n",
        "Objective:\n",
        "* Create a Python program that helps you practice accessing and manipulating\n",
        " elements in a list. This exercise will help you get comfortable with     \n",
        " indexing, slicing, and modifying list elements.\n",
        "\n",
        "# Instructions:\n",
        "Initialize a List:\n",
        "Create a list with at least 5 different elements. They can be numbers, strings, or a mix of both.\n",
        "\n",
        "# Accessing Elements:\n",
        "Write a function that:\n",
        "\n",
        "* Accepts a list and an index as inputs.\n",
        "* Returns the element at the specified index.\n",
        "* If the index is out of range, return an appropriate message.\n",
        "\n",
        "# Modifying Elements:\n",
        "Write a function that:\n",
        "\n",
        "* Accepts a list, an index, and a new value as inputs.\n",
        "* Replaces the element at the specified index with the new value.\n",
        "* If the index is out of range, return an appropriate message.\n",
        "\n",
        "# Slicing the List:\n",
        "Write a function that:\n",
        "\n",
        "* Accepts a list, a start index, and an end index as inputs.\n",
        "* Returns a new list containing the elements from the start index up to (but not including) the end index.\n",
        "* Handles cases where the indices are out of range.\n",
        "\n",
        "\n",
        "# Game Interaction:\n",
        "Create a simple text-based game that:\n",
        "\n",
        "* Prompts the user to select an operation (access, modify, slice).\n",
        "* Asks for the necessary inputs (index, new value, etc.).\n",
        "* Displays the result and the updated list."
      ],
      "metadata": {
        "id": "Pg-0dcZuM0ET"
      }
    },
    {
      "cell_type": "code",
      "source": [
        "def access_elements(lst, index):\n",
        "    try:\n",
        "        return lst[index]\n",
        "    except IndexError:\n",
        "        return \"Index out of range\"\n",
        "\n",
        "\n",
        "def modifying_elements(lst, index, new_value):\n",
        "    try:\n",
        "        lst[index] = new_value  # Actually modify the element\n",
        "        return lst\n",
        "    except IndexError:\n",
        "        return \"Index out of range\"\n",
        "\n",
        "def slicing_elements(lst, start, end):\n",
        "    try:\n",
        "        return lst[start:end]\n",
        "    except IndexError:\n",
        "        return \"Indices are out of range.\"\n",
        "\n",
        "def index_game():\n",
        "    lst = [1, \"Mangoe\", True, \"2\", 5]\n",
        "\n",
        "    choice = input(\"Select an operation (access, modify, slice): \")\n",
        "\n",
        "    # Ensure user selects a valid option\n",
        "    while choice not in [\"access\", \"modify\", \"slice\"]:\n",
        "        choice = input(\"Invalid choice. Select only given operations (access, modify, slice): \")\n",
        "\n",
        "    if choice == \"access\":\n",
        "        index = int(input(\"Enter index to access: \"))\n",
        "        print(access_elements(lst, index))\n",
        "    elif choice == \"modify\":\n",
        "        index = int(input(\"Enter index to modify: \"))\n",
        "        new_value = int(input(\"Enter new value: \"))  # Assume new_value is an integer\n",
        "        print(modifying_elements(lst, index, new_value))\n",
        "    elif choice == \"slice\":\n",
        "        start = int(input(\"Enter start index: \"))\n",
        "        end = int(input(\"Enter end index: \"))\n",
        "        print(slicing_elements(lst, start, end))\n",
        "\n",
        "index_game()\n"
      ],
      "metadata": {
        "colab": {
          "base_uri": "https://localhost:8080/"
        },
        "id": "VhS7FTU4KAg0",
        "outputId": "8b13b0b0-e48b-4469-b9f9-a48fe51bc6eb"
      },
      "execution_count": 26,
      "outputs": [
        {
          "output_type": "stream",
          "name": "stdout",
          "text": [
            "Select an operation (access, modify, slice): access\n",
            "Enter index to access: 1\n",
            "Mangoe\n"
          ]
        }
      ]
    }
  ]
}